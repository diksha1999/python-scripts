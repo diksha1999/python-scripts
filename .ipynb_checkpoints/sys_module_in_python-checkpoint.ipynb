{
 "cells": [
  {
   "cell_type": "markdown",
   "id": "314a006d-c08d-420d-947b-711fca449fb1",
   "metadata": {},
   "source": [
    "## What is `sys` module in python ?"
   ]
  },
  {
   "cell_type": "code",
   "execution_count": 3,
   "id": "54e6a045-1601-4832-8b59-caae8bc07402",
   "metadata": {},
   "outputs": [],
   "source": [
    "import sys"
   ]
  },
  {
   "cell_type": "markdown",
   "id": "3d34a111-3f74-467e-b744-09b979182619",
   "metadata": {},
   "source": [
    "### The sys module in Python is a built-in module that provides access to system-specific parameters and functions that interact strongly with the Python interpreter"
   ]
  },
  {
   "cell_type": "markdown",
   "id": "cf6c1808-3b92-46d3-99ee-26f861935dbd",
   "metadata": {},
   "source": [
    "Besides `sys.argv` (for command-line arguments), `sys.platform` (to get OS type), and `sys.exit()` (to exit the script), there are many other functions.\n",
    "\n",
    "### What is `sys.path`?\n",
    "`sys.path` is a built-in list in Python that tells the interpreter where to look for modules to import.\n",
    "It’s part of the `sys` module, which provides access to some variables and functions related to the Python interpreter."
   ]
  },
  {
   "cell_type": "code",
   "execution_count": 4,
   "id": "5f463c9e-47db-48ec-9a99-4d0db199c486",
   "metadata": {},
   "outputs": [
    {
     "name": "stdout",
     "output_type": "stream",
     "text": [
      "['/opt/homebrew/Cellar/python@3.13/3.13.2/Frameworks/Python.framework/Versions/3.13/lib/python313.zip', '/opt/homebrew/Cellar/python@3.13/3.13.2/Frameworks/Python.framework/Versions/3.13/lib/python3.13', '/opt/homebrew/Cellar/python@3.13/3.13.2/Frameworks/Python.framework/Versions/3.13/lib/python3.13/lib-dynload', '', '/Users/disharma/python/Python-Learning/lib/python3.13/site-packages']\n"
     ]
    }
   ],
   "source": [
    "print(sys.path)\n",
    "# This will print the list of directories Python searches when importing modules."
   ]
  },
  {
   "cell_type": "markdown",
   "id": "6605f441-8a9f-4477-9a08-b08bf4163a5f",
   "metadata": {},
   "source": [
    "## How does sys.path work?\n",
    "when we run `import test_module` in Python, the interpretor searches for `test_module` in the directories listed in `sys.path`\n",
    "\n",
    "It checks each directory in order until it finds the module or raises an `ImportError`."
   ]
  },
  {
   "cell_type": "markdown",
   "id": "5618bf86-987a-4e7f-aacb-60e9bf98a192",
   "metadata": {},
   "source": [
    "## What is `sys.version`?\n",
    "`sys.version` is a string attribute in the `sys` module that provides detailed information about the version of the Python interpreter currently running your script, as well as additional build and compiler details"
   ]
  },
  {
   "cell_type": "code",
   "execution_count": 5,
   "id": "e8612d07-cc9d-49e4-9185-413949e5b895",
   "metadata": {},
   "outputs": [
    {
     "name": "stdout",
     "output_type": "stream",
     "text": [
      "3.13.2 (main, Feb  4 2025, 14:51:09) [Clang 16.0.0 (clang-1600.0.26.6)]\n"
     ]
    }
   ],
   "source": [
    "print(sys.version)"
   ]
  },
  {
   "cell_type": "markdown",
   "id": "3b3b4109-ac08-4ddc-ad43-9cdcc9567a12",
   "metadata": {},
   "source": [
    "`3.13.2 (main, Feb  4 2025, 14:51:09) [Clang 16.0.0 (clang-1600.0.26.6)]`\n",
    "This output includes:\n",
    "\t•\tPython version (e.g., `3.12.4`)\n",
    "\t•\tBuild date and time (e.g., `Jun 28 2023, 14:32:07`)\n",
    "\t•\tCompiler info (e.g., `GCC 11.3.0`)"
   ]
  },
  {
   "cell_type": "markdown",
   "id": "a48ebb04-9f51-44f7-a2c5-dd1cc8ec51ce",
   "metadata": {},
   "source": [
    "## What is `sys.version_info`?\n",
    "`sys.version_info` is a built-in attribute in Python’s `sys` module that provides detailed version information about the currently running Python interpreter in a structured, named tuple format"
   ]
  },
  {
   "cell_type": "code",
   "execution_count": 6,
   "id": "3acf12b5-68b9-4a65-8edb-c47a856dd9d9",
   "metadata": {},
   "outputs": [
    {
     "name": "stdout",
     "output_type": "stream",
     "text": [
      "sys.version_info(major=3, minor=13, micro=2, releaselevel='final', serial=0)\n",
      "<class 'sys.version_info'>\n"
     ]
    }
   ],
   "source": [
    "print(sys.version_info)\n",
    "print(type(sys.version_info))"
   ]
  },
  {
   "cell_type": "markdown",
   "id": "c4a99728-07d1-400d-9061-6787a16c3b24",
   "metadata": {},
   "source": [
    "A named tuple (or struct sequence) containing the version number components as named fields.\n",
    "\t•\tFields:\n",
    "\t•\tmajor (e.g., 3)\n",
    "\t•\tminor (e.g., 12)\n",
    "\t•\tmicro (e.g., 4)\n",
    "\t•\treleaselevel (e.g., ‘final’, ‘alpha’, ‘beta’, ‘candidate’)\n",
    "\t•\tserial (serial number, usually 0)"
   ]
  },
  {
   "cell_type": "code",
   "execution_count": 7,
   "id": "977eea54-0839-4c67-8552-aa80ff22cb64",
   "metadata": {},
   "outputs": [
    {
     "name": "stdout",
     "output_type": "stream",
     "text": [
      "3\n"
     ]
    }
   ],
   "source": [
    "print(sys.version_info.major)"
   ]
  },
  {
   "cell_type": "code",
   "execution_count": 8,
   "id": "3b7a0e98-d15c-4969-b074-22621e7f5907",
   "metadata": {},
   "outputs": [
    {
     "name": "stdout",
     "output_type": "stream",
     "text": [
      "final\n"
     ]
    }
   ],
   "source": [
    "print(sys.version_info.releaselevel)"
   ]
  },
  {
   "cell_type": "markdown",
   "id": "c79f16c1-a463-40c2-a480-0da84e9cc2e7",
   "metadata": {},
   "source": [
    "## What is `sys.executable`?\n",
    "`sys.executable` is a built-in attribute in Python’s `sys` module that provides the absolute path to the Python interpreter executable currently running your script."
   ]
  },
  {
   "cell_type": "code",
   "execution_count": 9,
   "id": "32036fc5-e2f0-4b2d-a0a9-fed317ad6f5c",
   "metadata": {},
   "outputs": [
    {
     "name": "stdout",
     "output_type": "stream",
     "text": [
      "/Users/disharma/python/Python-Learning/bin/python3.13\n"
     ]
    }
   ],
   "source": [
    "print(sys.executable)"
   ]
  },
  {
   "cell_type": "code",
   "execution_count": 10,
   "id": "6e1d5f39-b636-47e2-9a9e-d73834368a0e",
   "metadata": {},
   "outputs": [
    {
     "name": "stdout",
     "output_type": "stream",
     "text": [
      "<class 'str'>\n"
     ]
    }
   ],
   "source": [
    "print(type(sys.executable))"
   ]
  },
  {
   "cell_type": "markdown",
   "id": "c6f7bdd6-48d6-4ada-99fe-124806588140",
   "metadata": {},
   "source": [
    "### Why Use `sys.executable`?\n",
    "1. **Debugging:**\n",
    "*Confirm which Python interpreter is running your script.*\n",
    "2. **Subprocesses:**\n",
    "*Use this path to spawn subprocesses with the same interpreter.*\n",
    "3. **Virtual Environments:**\n",
    "*Check if you’re running inside a virtual environment by comparing paths.*"
   ]
  },
  {
   "cell_type": "markdown",
   "id": "444487f5-3968-4cdd-b10f-9d55b76b4071",
   "metadata": {},
   "source": [
    "## What Are `sys.stdin`, `sys.stdout`, and `sys.stderr`?\n",
    "These are file-like objects provided by the `sys` module that represent the standard input, standard output, and standard error streams, respectively.\n",
    "- `sys.stdin`: Standard input stream (where Python reads input, e.g., from the keyboard)\n",
    "- `sys.stdout`: Standard output stream (where Python prints output, e.g., to the terminal)\n",
    "-  `sys.stderr`: Standard error stream (where Python prints error messages)"
   ]
  },
  {
   "cell_type": "markdown",
   "id": "f616fb6c-c3f4-4f09-823b-ad428dc14eed",
   "metadata": {},
   "source": [
    "### How Are They Used?\n",
    "- Default Behavior:\n",
    "    - `print()` writes to `sys.stdout` by default.\n",
    "\t- `input()` reads from `sys.stdin` by default.\n",
    "\t- Error messages (like tracebacks) are written to `sys.stderr` by default.\n",
    " ### Can Be Redirected:\n",
    "\t- You can redirect these streams to files or other objects for logging, testing, or custom output handling."
   ]
  },
  {
   "cell_type": "code",
   "execution_count": 11,
   "id": "5918bd5f-a4e4-4c2f-997e-ae3fa78eaf88",
   "metadata": {},
   "outputs": [
    {
     "name": "stdout",
     "output_type": "stream",
     "text": [
      "Hello stdout\n",
      "You entered\n"
     ]
    },
    {
     "name": "stderr",
     "output_type": "stream",
     "text": [
      "Error! Something went wrong"
     ]
    }
   ],
   "source": [
    "# writing to stdout same as print\n",
    "sys.stdout.write(\"Hello stdout\\n\")\n",
    "\n",
    "# writing to stderr (for error messages)\n",
    "sys.stderr.write(\"Error! Something went wrong\")\n",
    "\n",
    "# writing to stdin (Same as input but no prompt)\n",
    "user_input = sys.stdin.readline()\n",
    "print(f\"You entered{user_input}\")"
   ]
  },
  {
   "cell_type": "markdown",
   "id": "c3aa11ec-4b3e-4036-98ab-0a10f2d9f95e",
   "metadata": {},
   "source": [
    "## What is `sys.argv`?\n",
    "`sys.argv` is a list in Python that contains the command-line arguments passed to the script when it is executed.\n",
    "### How it works:\n",
    "- The first element (`sys.argv`) is the script name.\n",
    "- Subsequent elements (`sys.argv1:`) are the arguments provided by the user."
   ]
  },
  {
   "cell_type": "code",
   "execution_count": 14,
   "id": "665dea2a-762e-4526-a8cb-1ce7543a89e8",
   "metadata": {},
   "outputs": [
    {
     "name": "stdout",
     "output_type": "stream",
     "text": [
      "This is the script name: /Users/disharma/python/Python-Learning/lib/python3.13/site-packages/ipykernel_launcher.py\n",
      "Arguments: ['-f', '/Users/disharma/Library/Jupyter/runtime/kernel-2d1c1f88-7a39-4987-8e3f-3599c134c6e4.json']\n"
     ]
    }
   ],
   "source": [
    "print(f\"This is the script name: {sys.argv[0]}\")\n",
    "print(\"Arguments:\", sys.argv[1:])"
   ]
  },
  {
   "cell_type": "markdown",
   "id": "8e0368b2-9f7e-4163-af25-551901a7ae87",
   "metadata": {},
   "source": [
    "If you run:\n",
    ">python myscript.py arg1 arg2\n",
    "\n",
    "Output:\n",
    "> Script name: myscript.py\n",
    "Arguments: ['arg1', 'arg2']"
   ]
  },
  {
   "cell_type": "markdown",
   "id": "42a58ba1-89cc-4e35-8541-ec493020279a",
   "metadata": {},
   "source": [
    "# What is sys.exit?\n",
    "`sys.exit(arg)` is a function to exit from Python, optionally returning a status code.\n",
    "### How it works:\n",
    "- Calling `sys.exit()` terminates the script immediately.\n",
    "- An optional argument can be provided to specify an exit status (typically 0 for success, non-zero for errors)."
   ]
  },
  {
   "cell_type": "code",
   "execution_count": 18,
   "id": "47fce360-3542-4ff5-812e-4101f218759d",
   "metadata": {},
   "outputs": [
    {
     "name": "stdout",
     "output_type": "stream",
     "text": [
      "Argument received: -f\n",
      "['/Users/disharma/python/Python-Learning/lib/python3.13/site-packages/ipykernel_launcher.py', '-f', '/Users/disharma/Library/Jupyter/runtime/kernel-2d1c1f88-7a39-4987-8e3f-3599c134c6e4.json']\n"
     ]
    }
   ],
   "source": [
    "if len(sys.argv) < 2:\n",
    "    print(\"Error: Not enough arguments.\")\n",
    "    sys.exit(1)\n",
    "print(\"Argument received:\", sys.argv[1])\n",
    "print(sys.argv)"
   ]
  },
  {
   "cell_type": "markdown",
   "id": "2a1aa54e-424a-4ba3-87e4-3d7e81ed4441",
   "metadata": {},
   "source": [
    "_When you run Python code inside a Jupyter Notebook (or any IPython kernel), the kernel is actually started by a launcher script called `ipykernel_launcher.py`.The `-f` argument here is not something you passed, but an internal flag used by Jupyter to specify the path to the kernel connection file (a JSON file)._"
   ]
  },
  {
   "cell_type": "code",
   "execution_count": null,
   "id": "7eac2dae-7e30-484b-bdd1-a81780bc6d30",
   "metadata": {},
   "outputs": [],
   "source": []
  }
 ],
 "metadata": {
  "kernelspec": {
   "display_name": "Python 3 (ipykernel)",
   "language": "python",
   "name": "python3"
  },
  "language_info": {
   "codemirror_mode": {
    "name": "ipython",
    "version": 3
   },
   "file_extension": ".py",
   "mimetype": "text/x-python",
   "name": "python",
   "nbconvert_exporter": "python",
   "pygments_lexer": "ipython3",
   "version": "3.13.2"
  }
 },
 "nbformat": 4,
 "nbformat_minor": 5
}
